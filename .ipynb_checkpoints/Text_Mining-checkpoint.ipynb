{
 "cells": [
  {
   "cell_type": "markdown",
   "metadata": {},
   "source": [
    "# Minería de texto: clasificación de artículos\n",
    "\n",
    "### Autor: Silvia García Hernández                                                                    \n",
    "### Fecha: 3/06/2019"
   ]
  },
  {
   "cell_type": "code",
   "execution_count": null,
   "metadata": {},
   "outputs": [],
   "source": [
    "from pybtex.database.input import bibtex\n",
    "\n",
    "import pandas as pd\n",
    "import numpy as np\n",
    "import matplotlib.pyplot as plt\n",
    "\n",
    "import re\n",
    "import string\n",
    "import pickle \n",
    "import time\n",
    "import nltk\n",
    "\n",
    "from nltk.stem import WordNetLemmatizer\n",
    "from nltk.stem import PorterStemmer\n",
    "from nltk.stem.snowball import SnowballStemmer\n",
    "from nltk.tokenize import RegexpTokenizer\n",
    "\n",
    "\n",
    "from sklearn.feature_extraction.text import CountVectorizer\n",
    "from sklearn.feature_extraction.text import TfidfVectorizer\n",
    "from sklearn.feature_extraction.text import HashingVectorizer\n",
    "\n",
    "from sklearn.decomposition import LatentDirichletAllocation\n",
    "from sklearn.decomposition import TruncatedSVD\n",
    "from sklearn.random_projection import sparse_random_matrix\n",
    "from sklearn.preprocessing import Normalizer\n",
    "from sklearn.pipeline import make_pipeline\n",
    "\n",
    "from sklearn.model_selection import train_test_split\n",
    "from sklearn import metrics\n",
    "from sklearn.metrics import pairwise_distances\n",
    "from sklearn.metrics import davies_bouldin_score\n",
    "\n",
    "from sklearn.cluster import KMeans\n",
    "from sklearn.cluster import MiniBatchKMeans\n",
    "from sklearn.naive_bayes import MultinomialNB\n",
    "from sklearn.cluster import AgglomerativeClustering\n",
    "from sklearn.naive_bayes import BernoulliNB, ComplementNB, MultinomialNB\n",
    "from sklearn.manifold import TSNE\n",
    "\n",
    "from nltk.cluster import KMeansClusterer, cosine_distance\n",
    "from scipy.spatial.distance import cosine\n",
    "\n",
    "from sklearn.linear_model import PassiveAggressiveClassifier\n",
    "from sklearn import linear_model\n",
    "from sklearn.ensemble import RandomForestClassifier\n",
    "from sklearn.linear_model import LogisticRegression"
   ]
  },
  {
   "cell_type": "code",
   "execution_count": 2,
   "metadata": {},
   "outputs": [
    {
     "data": {
      "text/html": [
       "<div>\n",
       "<style scoped>\n",
       "    .dataframe tbody tr th:only-of-type {\n",
       "        vertical-align: middle;\n",
       "    }\n",
       "\n",
       "    .dataframe tbody tr th {\n",
       "        vertical-align: top;\n",
       "    }\n",
       "\n",
       "    .dataframe thead th {\n",
       "        text-align: right;\n",
       "    }\n",
       "</style>\n",
       "<table border=\"1\" class=\"dataframe\">\n",
       "  <thead>\n",
       "    <tr style=\"text-align: right;\">\n",
       "      <th></th>\n",
       "      <th>entry</th>\n",
       "      <th>title</th>\n",
       "      <th>keywords</th>\n",
       "      <th>abstract</th>\n",
       "      <th>year</th>\n",
       "      <th>journal</th>\n",
       "    </tr>\n",
       "  </thead>\n",
       "  <tbody>\n",
       "    <tr>\n",
       "      <th>0</th>\n",
       "      <td>AZAZA20181</td>\n",
       "      <td>Context proposals for saliency detection</td>\n",
       "      <td>Computational saliency, Object segmentation, O...</td>\n",
       "      <td>One of the fundamental properties of a salient...</td>\n",
       "      <td>2018</td>\n",
       "      <td>Computer Vision and Image Understanding</td>\n",
       "    </tr>\n",
       "    <tr>\n",
       "      <th>1</th>\n",
       "      <td>BENSHABAT201812</td>\n",
       "      <td>Graph based over-segmentation methods for 3D p...</td>\n",
       "      <td>3D point cloud over-segmentation, 3D point clo...</td>\n",
       "      <td>Over-segmentation, or super-pixel generation, ...</td>\n",
       "      <td>2018</td>\n",
       "      <td>Computer Vision and Image Understanding</td>\n",
       "    </tr>\n",
       "    <tr>\n",
       "      <th>2</th>\n",
       "      <td>YANG201843</td>\n",
       "      <td>Text effects transfer via distribution-aware t...</td>\n",
       "      <td>Text effects, Texture synthesis, Spatial distr...</td>\n",
       "      <td>In this paper, we explore the problem of fanta...</td>\n",
       "      <td>2018</td>\n",
       "      <td>Computer Vision and Image Understanding</td>\n",
       "    </tr>\n",
       "    <tr>\n",
       "      <th>3</th>\n",
       "      <td>BARATH201870</td>\n",
       "      <td>Efficient energy-based topological outlier rej...</td>\n",
       "      <td>Stereo vision, Outlier filtering, Energy minim...</td>\n",
       "      <td>An approach is proposed for outlier rejection ...</td>\n",
       "      <td>2018</td>\n",
       "      <td>Computer Vision and Image Understanding</td>\n",
       "    </tr>\n",
       "    <tr>\n",
       "      <th>4</th>\n",
       "      <td>ARRIGONI201895</td>\n",
       "      <td>Robust synchronization in SO(3) and SE(3) via ...</td>\n",
       "      <td>Absolute rotations, Global rotations, Structur...</td>\n",
       "      <td>This paper deals with the synchronization prob...</td>\n",
       "      <td>2018</td>\n",
       "      <td>Computer Vision and Image Understanding</td>\n",
       "    </tr>\n",
       "  </tbody>\n",
       "</table>\n",
       "</div>"
      ],
      "text/plain": [
       "             entry                                              title  \\\n",
       "0       AZAZA20181           Context proposals for saliency detection   \n",
       "1  BENSHABAT201812  Graph based over-segmentation methods for 3D p...   \n",
       "2       YANG201843  Text effects transfer via distribution-aware t...   \n",
       "3     BARATH201870  Efficient energy-based topological outlier rej...   \n",
       "4   ARRIGONI201895  Robust synchronization in SO(3) and SE(3) via ...   \n",
       "\n",
       "                                            keywords  \\\n",
       "0  Computational saliency, Object segmentation, O...   \n",
       "1  3D point cloud over-segmentation, 3D point clo...   \n",
       "2  Text effects, Texture synthesis, Spatial distr...   \n",
       "3  Stereo vision, Outlier filtering, Energy minim...   \n",
       "4  Absolute rotations, Global rotations, Structur...   \n",
       "\n",
       "                                            abstract  year  \\\n",
       "0  One of the fundamental properties of a salient...  2018   \n",
       "1  Over-segmentation, or super-pixel generation, ...  2018   \n",
       "2  In this paper, we explore the problem of fanta...  2018   \n",
       "3  An approach is proposed for outlier rejection ...  2018   \n",
       "4  This paper deals with the synchronization prob...  2018   \n",
       "\n",
       "                                   journal  \n",
       "0  Computer Vision and Image Understanding  \n",
       "1  Computer Vision and Image Understanding  \n",
       "2  Computer Vision and Image Understanding  \n",
       "3  Computer Vision and Image Understanding  \n",
       "4  Computer Vision and Image Understanding  "
      ]
     },
     "execution_count": 2,
     "metadata": {},
     "output_type": "execute_result"
    }
   ],
   "source": [
    "datos_original = pd.read_csv(\"artciles.csv\")    # Lectura archivo .csv\n",
    "\n",
    "datos_original.head()   "
   ]
  },
  {
   "cell_type": "code",
   "execution_count": 3,
   "metadata": {},
   "outputs": [
    {
     "data": {
      "text/html": [
       "<div>\n",
       "<style scoped>\n",
       "    .dataframe tbody tr th:only-of-type {\n",
       "        vertical-align: middle;\n",
       "    }\n",
       "\n",
       "    .dataframe tbody tr th {\n",
       "        vertical-align: top;\n",
       "    }\n",
       "\n",
       "    .dataframe thead th {\n",
       "        text-align: right;\n",
       "    }\n",
       "</style>\n",
       "<table border=\"1\" class=\"dataframe\">\n",
       "  <thead>\n",
       "    <tr style=\"text-align: right;\">\n",
       "      <th></th>\n",
       "      <th>entry</th>\n",
       "      <th>title</th>\n",
       "      <th>keywords</th>\n",
       "      <th>abstract</th>\n",
       "      <th>year</th>\n",
       "    </tr>\n",
       "    <tr>\n",
       "      <th>journal</th>\n",
       "      <th></th>\n",
       "      <th></th>\n",
       "      <th></th>\n",
       "      <th></th>\n",
       "      <th></th>\n",
       "    </tr>\n",
       "  </thead>\n",
       "  <tbody>\n",
       "    <tr>\n",
       "      <th>Computer Vision and Image Understanding</th>\n",
       "      <td>249</td>\n",
       "      <td>249</td>\n",
       "      <td>249</td>\n",
       "      <td>249</td>\n",
       "      <td>249</td>\n",
       "    </tr>\n",
       "    <tr>\n",
       "      <th>Data &amp; Knowledge Engineering</th>\n",
       "      <td>99</td>\n",
       "      <td>99</td>\n",
       "      <td>99</td>\n",
       "      <td>99</td>\n",
       "      <td>99</td>\n",
       "    </tr>\n",
       "    <tr>\n",
       "      <th>Journal of Visual Communication and Image Representation</th>\n",
       "      <td>433</td>\n",
       "      <td>433</td>\n",
       "      <td>433</td>\n",
       "      <td>433</td>\n",
       "      <td>433</td>\n",
       "    </tr>\n",
       "  </tbody>\n",
       "</table>\n",
       "</div>"
      ],
      "text/plain": [
       "                                                    entry  title  keywords  \\\n",
       "journal                                                                      \n",
       "Computer Vision and Image Understanding               249    249       249   \n",
       "Data & Knowledge Engineering                           99     99        99   \n",
       "Journal of Visual Communication and Image Repre...    433    433       433   \n",
       "\n",
       "                                                    abstract  year  \n",
       "journal                                                             \n",
       "Computer Vision and Image Understanding                  249   249  \n",
       "Data & Knowledge Engineering                              99    99  \n",
       "Journal of Visual Communication and Image Repre...       433   433  "
      ]
     },
     "execution_count": 3,
     "metadata": {},
     "output_type": "execute_result"
    }
   ],
   "source": [
    "datos_original.groupby(['journal']).count()"
   ]
  },
  {
   "cell_type": "code",
   "execution_count": 4,
   "metadata": {},
   "outputs": [
    {
     "data": {
      "text/html": [
       "<div>\n",
       "<style scoped>\n",
       "    .dataframe tbody tr th:only-of-type {\n",
       "        vertical-align: middle;\n",
       "    }\n",
       "\n",
       "    .dataframe tbody tr th {\n",
       "        vertical-align: top;\n",
       "    }\n",
       "\n",
       "    .dataframe thead th {\n",
       "        text-align: right;\n",
       "    }\n",
       "</style>\n",
       "<table border=\"1\" class=\"dataframe\">\n",
       "  <thead>\n",
       "    <tr style=\"text-align: right;\">\n",
       "      <th></th>\n",
       "      <th>title</th>\n",
       "      <th>journal</th>\n",
       "    </tr>\n",
       "  </thead>\n",
       "  <tbody>\n",
       "    <tr>\n",
       "      <th>0</th>\n",
       "      <td>Context proposals for saliency detection</td>\n",
       "      <td>Computer Vision and Image Understanding</td>\n",
       "    </tr>\n",
       "    <tr>\n",
       "      <th>1</th>\n",
       "      <td>Graph based over-segmentation methods for 3D p...</td>\n",
       "      <td>Computer Vision and Image Understanding</td>\n",
       "    </tr>\n",
       "    <tr>\n",
       "      <th>2</th>\n",
       "      <td>Text effects transfer via distribution-aware t...</td>\n",
       "      <td>Computer Vision and Image Understanding</td>\n",
       "    </tr>\n",
       "    <tr>\n",
       "      <th>3</th>\n",
       "      <td>Efficient energy-based topological outlier rej...</td>\n",
       "      <td>Computer Vision and Image Understanding</td>\n",
       "    </tr>\n",
       "    <tr>\n",
       "      <th>4</th>\n",
       "      <td>Robust synchronization in SO(3) and SE(3) via ...</td>\n",
       "      <td>Computer Vision and Image Understanding</td>\n",
       "    </tr>\n",
       "  </tbody>\n",
       "</table>\n",
       "</div>"
      ],
      "text/plain": [
       "                                               title  \\\n",
       "0           Context proposals for saliency detection   \n",
       "1  Graph based over-segmentation methods for 3D p...   \n",
       "2  Text effects transfer via distribution-aware t...   \n",
       "3  Efficient energy-based topological outlier rej...   \n",
       "4  Robust synchronization in SO(3) and SE(3) via ...   \n",
       "\n",
       "                                   journal  \n",
       "0  Computer Vision and Image Understanding  \n",
       "1  Computer Vision and Image Understanding  \n",
       "2  Computer Vision and Image Understanding  \n",
       "3  Computer Vision and Image Understanding  \n",
       "4  Computer Vision and Image Understanding  "
      ]
     },
     "execution_count": 4,
     "metadata": {},
     "output_type": "execute_result"
    }
   ],
   "source": [
    "interestFieldT = datos_original[['title','journal']]\n",
    "interestFieldK = datos_original[['keywords','journal']]\n",
    "interestFieldA = datos_original[['abstract','journal']]\n",
    "\n",
    "interestFields = [[interestFieldT, interestFieldK, interestFieldA]]\n",
    "pd.DataFrame(interestFields[0][0]).head()"
   ]
  },
  {
   "cell_type": "code",
   "execution_count": 5,
   "metadata": {},
   "outputs": [
    {
     "data": {
      "text/html": [
       "<div>\n",
       "<style scoped>\n",
       "    .dataframe tbody tr th:only-of-type {\n",
       "        vertical-align: middle;\n",
       "    }\n",
       "\n",
       "    .dataframe tbody tr th {\n",
       "        vertical-align: top;\n",
       "    }\n",
       "\n",
       "    .dataframe thead th {\n",
       "        text-align: right;\n",
       "    }\n",
       "</style>\n",
       "<table border=\"1\" class=\"dataframe\">\n",
       "  <thead>\n",
       "    <tr style=\"text-align: right;\">\n",
       "      <th></th>\n",
       "      <th>title</th>\n",
       "      <th>journal</th>\n",
       "    </tr>\n",
       "  </thead>\n",
       "  <tbody>\n",
       "    <tr>\n",
       "      <th>0</th>\n",
       "      <td>Context proposals for saliency detection</td>\n",
       "      <td>0</td>\n",
       "    </tr>\n",
       "    <tr>\n",
       "      <th>1</th>\n",
       "      <td>Graph based over-segmentation methods for 3D p...</td>\n",
       "      <td>0</td>\n",
       "    </tr>\n",
       "    <tr>\n",
       "      <th>2</th>\n",
       "      <td>Text effects transfer via distribution-aware t...</td>\n",
       "      <td>0</td>\n",
       "    </tr>\n",
       "    <tr>\n",
       "      <th>3</th>\n",
       "      <td>Efficient energy-based topological outlier rej...</td>\n",
       "      <td>0</td>\n",
       "    </tr>\n",
       "    <tr>\n",
       "      <th>4</th>\n",
       "      <td>Robust synchronization in SO(3) and SE(3) via ...</td>\n",
       "      <td>0</td>\n",
       "    </tr>\n",
       "  </tbody>\n",
       "</table>\n",
       "</div>"
      ],
      "text/plain": [
       "                                               title  journal\n",
       "0           Context proposals for saliency detection        0\n",
       "1  Graph based over-segmentation methods for 3D p...        0\n",
       "2  Text effects transfer via distribution-aware t...        0\n",
       "3  Efficient energy-based topological outlier rej...        0\n",
       "4  Robust synchronization in SO(3) and SE(3) via ...        0"
      ]
     },
     "execution_count": 5,
     "metadata": {},
     "output_type": "execute_result"
    }
   ],
   "source": [
    "for i in range(3):\n",
    "    interestFields[0][i] = interestFields[0][i].replace({'journal': 'Computer Vision and Image Understanding'}, \n",
    "                                            {'journal': 0}, regex=True)\n",
    "    interestFields[0][i] = interestFields[0][i].replace({'journal': 'Journal of Visual Communication and Image Representation'}, \n",
    "                                            {'journal': 1}, regex=True)\n",
    "    interestFields[0][i] = interestFields[0][i].replace({'journal': 'Data & Knowledge Engineering'}, \n",
    "                                            {'journal': 2}, regex=True)\n",
    "pd.DataFrame(interestFields[0][0]).head()"
   ]
  },
  {
   "cell_type": "code",
   "execution_count": 6,
   "metadata": {},
   "outputs": [
    {
     "data": {
      "text/html": [
       "<div>\n",
       "<style scoped>\n",
       "    .dataframe tbody tr th:only-of-type {\n",
       "        vertical-align: middle;\n",
       "    }\n",
       "\n",
       "    .dataframe tbody tr th {\n",
       "        vertical-align: top;\n",
       "    }\n",
       "\n",
       "    .dataframe thead th {\n",
       "        text-align: right;\n",
       "    }\n",
       "</style>\n",
       "<table border=\"1\" class=\"dataframe\">\n",
       "  <thead>\n",
       "    <tr style=\"text-align: right;\">\n",
       "      <th></th>\n",
       "      <th>title</th>\n",
       "      <th>journal</th>\n",
       "    </tr>\n",
       "  </thead>\n",
       "  <tbody>\n",
       "    <tr>\n",
       "      <th>0</th>\n",
       "      <td>Context proposals for saliency detection</td>\n",
       "      <td>0</td>\n",
       "    </tr>\n",
       "    <tr>\n",
       "      <th>232</th>\n",
       "      <td>Efficient tree-structured SfM by RANSAC genera...</td>\n",
       "      <td>0</td>\n",
       "    </tr>\n",
       "    <tr>\n",
       "      <th>231</th>\n",
       "      <td>Error-aware construction and rendering of mult...</td>\n",
       "      <td>0</td>\n",
       "    </tr>\n",
       "    <tr>\n",
       "      <th>586</th>\n",
       "      <td>Segmentation of clusters by template rotation ...</td>\n",
       "      <td>0</td>\n",
       "    </tr>\n",
       "    <tr>\n",
       "      <th>587</th>\n",
       "      <td>Recognising complex activities with histograms...</td>\n",
       "      <td>0</td>\n",
       "    </tr>\n",
       "  </tbody>\n",
       "</table>\n",
       "</div>"
      ],
      "text/plain": [
       "                                                 title  journal\n",
       "0             Context proposals for saliency detection        0\n",
       "232  Efficient tree-structured SfM by RANSAC genera...        0\n",
       "231  Error-aware construction and rendering of mult...        0\n",
       "586  Segmentation of clusters by template rotation ...        0\n",
       "587  Recognising complex activities with histograms...        0"
      ]
     },
     "execution_count": 6,
     "metadata": {},
     "output_type": "execute_result"
    }
   ],
   "source": [
    "for i in range(3):\n",
    "    interestFields[0][i] = interestFields[0][i].sort_values(by ='journal')\n",
    "    \n",
    "pd.DataFrame(interestFields[0][0]).head()"
   ]
  },
  {
   "cell_type": "code",
   "execution_count": 7,
   "metadata": {},
   "outputs": [
    {
     "data": {
      "text/plain": [
       "3"
      ]
     },
     "execution_count": 7,
     "metadata": {},
     "output_type": "execute_result"
    }
   ],
   "source": [
    "titlesList = interestFields[0][0]['title'].tolist()\n",
    "keysList = interestFields[0][1]['keywords'].tolist()\n",
    "abstractsList = interestFields[0][2]['abstract'].tolist()\n",
    "\n",
    "sentencesList = [[titlesList, keysList, abstractsList]]\n",
    "len(sentencesList[0])"
   ]
  },
  {
   "cell_type": "code",
   "execution_count": 8,
   "metadata": {},
   "outputs": [
    {
     "data": {
      "text/plain": [
       "781"
      ]
     },
     "execution_count": 8,
     "metadata": {},
     "output_type": "execute_result"
    }
   ],
   "source": [
    "classList = interestFields[0][0]['journal'].tolist()\n",
    "len(classList)"
   ]
  },
  {
   "cell_type": "markdown",
   "metadata": {},
   "source": [
    "## Remove Punctuation Signs"
   ]
  },
  {
   "cell_type": "code",
   "execution_count": 9,
   "metadata": {},
   "outputs": [
    {
     "data": {
      "text/html": [
       "<div>\n",
       "<style scoped>\n",
       "    .dataframe tbody tr th:only-of-type {\n",
       "        vertical-align: middle;\n",
       "    }\n",
       "\n",
       "    .dataframe tbody tr th {\n",
       "        vertical-align: top;\n",
       "    }\n",
       "\n",
       "    .dataframe thead th {\n",
       "        text-align: right;\n",
       "    }\n",
       "</style>\n",
       "<table border=\"1\" class=\"dataframe\">\n",
       "  <thead>\n",
       "    <tr style=\"text-align: right;\">\n",
       "      <th></th>\n",
       "      <th>0</th>\n",
       "    </tr>\n",
       "  </thead>\n",
       "  <tbody>\n",
       "    <tr>\n",
       "      <th>0</th>\n",
       "      <td>Context proposals for saliency detection</td>\n",
       "    </tr>\n",
       "    <tr>\n",
       "      <th>1</th>\n",
       "      <td>Efficient tree structured SfM by RANSAC genera...</td>\n",
       "    </tr>\n",
       "    <tr>\n",
       "      <th>2</th>\n",
       "      <td>Error aware construction and rendering of mult...</td>\n",
       "    </tr>\n",
       "    <tr>\n",
       "      <th>3</th>\n",
       "      <td>Segmentation of clusters by template rotation ...</td>\n",
       "    </tr>\n",
       "    <tr>\n",
       "      <th>4</th>\n",
       "      <td>Recognising complex activities with histograms...</td>\n",
       "    </tr>\n",
       "  </tbody>\n",
       "</table>\n",
       "</div>"
      ],
      "text/plain": [
       "                                                   0\n",
       "0           Context proposals for saliency detection\n",
       "1  Efficient tree structured SfM by RANSAC genera...\n",
       "2  Error aware construction and rendering of mult...\n",
       "3  Segmentation of clusters by template rotation ...\n",
       "4  Recognising complex activities with histograms..."
      ]
     },
     "execution_count": 9,
     "metadata": {},
     "output_type": "execute_result"
    }
   ],
   "source": [
    "tokenizer = RegexpTokenizer(r'\\w+')\n",
    "\n",
    "for i in range(len(sentencesList[0])):\n",
    "    for sentence in range(len(sentencesList[0][i])):\n",
    "        tokens = tokenizer.tokenize(sentencesList[0][i][sentence])\n",
    "        sentencesList[0][i][sentence] = \" \".join(tokens)\n",
    "        \n",
    "pd.DataFrame(sentencesList[0][0]).head()"
   ]
  },
  {
   "cell_type": "code",
   "execution_count": 10,
   "metadata": {},
   "outputs": [
    {
     "data": {
      "text/html": [
       "<div>\n",
       "<style scoped>\n",
       "    .dataframe tbody tr th:only-of-type {\n",
       "        vertical-align: middle;\n",
       "    }\n",
       "\n",
       "    .dataframe tbody tr th {\n",
       "        vertical-align: top;\n",
       "    }\n",
       "\n",
       "    .dataframe thead th {\n",
       "        text-align: right;\n",
       "    }\n",
       "</style>\n",
       "<table border=\"1\" class=\"dataframe\">\n",
       "  <thead>\n",
       "    <tr style=\"text-align: right;\">\n",
       "      <th></th>\n",
       "      <th>0</th>\n",
       "    </tr>\n",
       "  </thead>\n",
       "  <tbody>\n",
       "    <tr>\n",
       "      <th>0</th>\n",
       "      <td>Context proposals for saliency detection</td>\n",
       "    </tr>\n",
       "    <tr>\n",
       "      <th>1</th>\n",
       "      <td>Efficient tree structured SfM by RANSAC genera...</td>\n",
       "    </tr>\n",
       "    <tr>\n",
       "      <th>2</th>\n",
       "      <td>Error aware construction and rendering of mult...</td>\n",
       "    </tr>\n",
       "    <tr>\n",
       "      <th>3</th>\n",
       "      <td>Segmentation of clusters by template rotation ...</td>\n",
       "    </tr>\n",
       "    <tr>\n",
       "      <th>4</th>\n",
       "      <td>Recognising complex activities with histograms...</td>\n",
       "    </tr>\n",
       "  </tbody>\n",
       "</table>\n",
       "</div>"
      ],
      "text/plain": [
       "                                                   0\n",
       "0           Context proposals for saliency detection\n",
       "1  Efficient tree structured SfM by RANSAC genera...\n",
       "2  Error aware construction and rendering of mult...\n",
       "3  Segmentation of clusters by template rotation ...\n",
       "4  Recognising complex activities with histograms..."
      ]
     },
     "execution_count": 10,
     "metadata": {},
     "output_type": "execute_result"
    }
   ],
   "source": [
    "pnt = str.maketrans('', '', string.punctuation)\n",
    "\n",
    "for i in range(len(sentencesList[0])):\n",
    "    sentencesList[0][i] = [\" \".join([word.translate(pnt) for word in doc.split()]) \n",
    "                           for doc in sentencesList[0][i]]\n",
    "    \n",
    "pd.DataFrame(sentencesList[0][0]).head()"
   ]
  },
  {
   "cell_type": "markdown",
   "metadata": {},
   "source": [
    "## Lemmatization"
   ]
  },
  {
   "cell_type": "code",
   "execution_count": 11,
   "metadata": {},
   "outputs": [
    {
     "data": {
      "text/html": [
       "<div>\n",
       "<style scoped>\n",
       "    .dataframe tbody tr th:only-of-type {\n",
       "        vertical-align: middle;\n",
       "    }\n",
       "\n",
       "    .dataframe tbody tr th {\n",
       "        vertical-align: top;\n",
       "    }\n",
       "\n",
       "    .dataframe thead th {\n",
       "        text-align: right;\n",
       "    }\n",
       "</style>\n",
       "<table border=\"1\" class=\"dataframe\">\n",
       "  <thead>\n",
       "    <tr style=\"text-align: right;\">\n",
       "      <th></th>\n",
       "      <th>0</th>\n",
       "    </tr>\n",
       "  </thead>\n",
       "  <tbody>\n",
       "    <tr>\n",
       "      <th>0</th>\n",
       "      <td>Context proposal for saliency detection</td>\n",
       "    </tr>\n",
       "    <tr>\n",
       "      <th>1</th>\n",
       "      <td>Efficient tree structured SfM by RANSAC genera...</td>\n",
       "    </tr>\n",
       "    <tr>\n",
       "      <th>2</th>\n",
       "      <td>Error aware construction and rendering of mult...</td>\n",
       "    </tr>\n",
       "    <tr>\n",
       "      <th>3</th>\n",
       "      <td>Segmentation of cluster by template rotation e...</td>\n",
       "    </tr>\n",
       "    <tr>\n",
       "      <th>4</th>\n",
       "      <td>Recognising complex activity with histogram of...</td>\n",
       "    </tr>\n",
       "  </tbody>\n",
       "</table>\n",
       "</div>"
      ],
      "text/plain": [
       "                                                   0\n",
       "0            Context proposal for saliency detection\n",
       "1  Efficient tree structured SfM by RANSAC genera...\n",
       "2  Error aware construction and rendering of mult...\n",
       "3  Segmentation of cluster by template rotation e...\n",
       "4  Recognising complex activity with histogram of..."
      ]
     },
     "execution_count": 11,
     "metadata": {},
     "output_type": "execute_result"
    }
   ],
   "source": [
    "lemmer = nltk.stem.WordNetLemmatizer()\n",
    "\n",
    "for i in range(len(sentencesList[0])):\n",
    "    sentencesList[0][i] = [\" \".join([lemmer.lemmatize(word) for word in doc.split()]) \n",
    "                           for doc in sentencesList[0][i]]\n",
    "    \n",
    "pd.DataFrame(sentencesList[0][0]).head()"
   ]
  },
  {
   "cell_type": "markdown",
   "metadata": {},
   "source": [
    "## Stemming (elegir entre Porter o SnowBall)"
   ]
  },
  {
   "cell_type": "code",
   "execution_count": 12,
   "metadata": {},
   "outputs": [
    {
     "data": {
      "text/html": [
       "<div>\n",
       "<style scoped>\n",
       "    .dataframe tbody tr th:only-of-type {\n",
       "        vertical-align: middle;\n",
       "    }\n",
       "\n",
       "    .dataframe tbody tr th {\n",
       "        vertical-align: top;\n",
       "    }\n",
       "\n",
       "    .dataframe thead th {\n",
       "        text-align: right;\n",
       "    }\n",
       "</style>\n",
       "<table border=\"1\" class=\"dataframe\">\n",
       "  <thead>\n",
       "    <tr style=\"text-align: right;\">\n",
       "      <th></th>\n",
       "      <th>0</th>\n",
       "    </tr>\n",
       "  </thead>\n",
       "  <tbody>\n",
       "    <tr>\n",
       "      <th>0</th>\n",
       "      <td>context propos for salienc detect</td>\n",
       "    </tr>\n",
       "    <tr>\n",
       "      <th>1</th>\n",
       "      <td>effici tree structur sfm by ransac gener procr...</td>\n",
       "    </tr>\n",
       "    <tr>\n",
       "      <th>2</th>\n",
       "      <td>error awar construct and render of multi scan ...</td>\n",
       "    </tr>\n",
       "    <tr>\n",
       "      <th>3</th>\n",
       "      <td>segment of cluster by templat rotat expect maxim</td>\n",
       "    </tr>\n",
       "    <tr>\n",
       "      <th>4</th>\n",
       "      <td>recognis complex activ with histogram of rel t...</td>\n",
       "    </tr>\n",
       "  </tbody>\n",
       "</table>\n",
       "</div>"
      ],
      "text/plain": [
       "                                                   0\n",
       "0                  context propos for salienc detect\n",
       "1  effici tree structur sfm by ransac gener procr...\n",
       "2  error awar construct and render of multi scan ...\n",
       "3   segment of cluster by templat rotat expect maxim\n",
       "4  recognis complex activ with histogram of rel t..."
      ]
     },
     "execution_count": 12,
     "metadata": {},
     "output_type": "execute_result"
    }
   ],
   "source": [
    "porter = PorterStemmer()\n",
    "\n",
    "for i in range(len(sentencesList[0])):\n",
    "    sentencesList[0][i] = [\" \".join([porter.stem(word) for word in doc.split()]) \n",
    "                           for doc in sentencesList[0][i]]\n",
    "\n",
    "pd.DataFrame(sentencesList[0][0]).head()"
   ]
  },
  {
   "cell_type": "code",
   "execution_count": 12,
   "metadata": {},
   "outputs": [
    {
     "data": {
      "text/html": [
       "<div>\n",
       "<style scoped>\n",
       "    .dataframe tbody tr th:only-of-type {\n",
       "        vertical-align: middle;\n",
       "    }\n",
       "\n",
       "    .dataframe tbody tr th {\n",
       "        vertical-align: top;\n",
       "    }\n",
       "\n",
       "    .dataframe thead th {\n",
       "        text-align: right;\n",
       "    }\n",
       "</style>\n",
       "<table border=\"1\" class=\"dataframe\">\n",
       "  <thead>\n",
       "    <tr style=\"text-align: right;\">\n",
       "      <th></th>\n",
       "      <th>0</th>\n",
       "    </tr>\n",
       "  </thead>\n",
       "  <tbody>\n",
       "    <tr>\n",
       "      <th>0</th>\n",
       "      <td>context propos for salienc detect</td>\n",
       "    </tr>\n",
       "    <tr>\n",
       "      <th>1</th>\n",
       "      <td>effici tree structur sfm by ransac general pro...</td>\n",
       "    </tr>\n",
       "    <tr>\n",
       "      <th>2</th>\n",
       "      <td>error awar construct and render of multi scan ...</td>\n",
       "    </tr>\n",
       "    <tr>\n",
       "      <th>3</th>\n",
       "      <td>segment of cluster by templat rotat expect maxim</td>\n",
       "    </tr>\n",
       "    <tr>\n",
       "      <th>4</th>\n",
       "      <td>recognis complex activ with histogram of relat...</td>\n",
       "    </tr>\n",
       "  </tbody>\n",
       "</table>\n",
       "</div>"
      ],
      "text/plain": [
       "                                                   0\n",
       "0                  context propos for salienc detect\n",
       "1  effici tree structur sfm by ransac general pro...\n",
       "2  error awar construct and render of multi scan ...\n",
       "3   segment of cluster by templat rotat expect maxim\n",
       "4  recognis complex activ with histogram of relat..."
      ]
     },
     "execution_count": 12,
     "metadata": {},
     "output_type": "execute_result"
    }
   ],
   "source": [
    "stemmer = SnowballStemmer(\"english\", ignore_stopwords=True)\n",
    "\n",
    "for i in range(len(sentencesList[0])):\n",
    "    sentencesList[0][i] = [\" \".join([stemmer.stem(word) for word in doc.split()]) \n",
    "                      for doc in sentencesList[0][i]]\n",
    "\n",
    "pd.DataFrame(sentencesList[0][0]).head()"
   ]
  },
  {
   "cell_type": "markdown",
   "metadata": {},
   "source": [
    "## Delete words with 3 letters or less"
   ]
  },
  {
   "cell_type": "code",
   "execution_count": 13,
   "metadata": {},
   "outputs": [
    {
     "data": {
      "text/html": [
       "<div>\n",
       "<style scoped>\n",
       "    .dataframe tbody tr th:only-of-type {\n",
       "        vertical-align: middle;\n",
       "    }\n",
       "\n",
       "    .dataframe tbody tr th {\n",
       "        vertical-align: top;\n",
       "    }\n",
       "\n",
       "    .dataframe thead th {\n",
       "        text-align: right;\n",
       "    }\n",
       "</style>\n",
       "<table border=\"1\" class=\"dataframe\">\n",
       "  <thead>\n",
       "    <tr style=\"text-align: right;\">\n",
       "      <th></th>\n",
       "      <th>0</th>\n",
       "    </tr>\n",
       "  </thead>\n",
       "  <tbody>\n",
       "    <tr>\n",
       "      <th>0</th>\n",
       "      <td>context propos salienc detect</td>\n",
       "    </tr>\n",
       "    <tr>\n",
       "      <th>1</th>\n",
       "      <td>effici tree structur ransac general procrust a...</td>\n",
       "    </tr>\n",
       "    <tr>\n",
       "      <th>2</th>\n",
       "      <td>error awar construct render multi scan panoram...</td>\n",
       "    </tr>\n",
       "    <tr>\n",
       "      <th>3</th>\n",
       "      <td>segment cluster templat rotat expect maxim</td>\n",
       "    </tr>\n",
       "    <tr>\n",
       "      <th>4</th>\n",
       "      <td>recognis complex activ with histogram relat tr...</td>\n",
       "    </tr>\n",
       "  </tbody>\n",
       "</table>\n",
       "</div>"
      ],
      "text/plain": [
       "                                                   0\n",
       "0                      context propos salienc detect\n",
       "1  effici tree structur ransac general procrust a...\n",
       "2  error awar construct render multi scan panoram...\n",
       "3         segment cluster templat rotat expect maxim\n",
       "4  recognis complex activ with histogram relat tr..."
      ]
     },
     "execution_count": 13,
     "metadata": {},
     "output_type": "execute_result"
    }
   ],
   "source": [
    "shortword = re.compile(r'\\W*\\b\\w{1,3}\\b')\n",
    "\n",
    "for i in range(len(sentencesList[0])):\n",
    "    for sentence in range(len(sentencesList[0][i])):\n",
    "        sentencesList[0][i][sentence] = shortword.sub('', sentencesList[0][i][sentence])\n",
    "\n",
    "pd.DataFrame(sentencesList[0][0]).head()"
   ]
  },
  {
   "cell_type": "markdown",
   "metadata": {},
   "source": [
    "# Extracción de características"
   ]
  },
  {
   "cell_type": "markdown",
   "metadata": {},
   "source": [
    "## TF-IDF (elegir entre Hashing, TF o TF-IDF)"
   ]
  },
  {
   "cell_type": "code",
   "execution_count": 14,
   "metadata": {},
   "outputs": [
    {
     "data": {
      "text/html": [
       "<div>\n",
       "<style scoped>\n",
       "    .dataframe tbody tr th:only-of-type {\n",
       "        vertical-align: middle;\n",
       "    }\n",
       "\n",
       "    .dataframe tbody tr th {\n",
       "        vertical-align: top;\n",
       "    }\n",
       "\n",
       "    .dataframe thead th {\n",
       "        text-align: right;\n",
       "    }\n",
       "</style>\n",
       "<table border=\"1\" class=\"dataframe\">\n",
       "  <thead>\n",
       "    <tr style=\"text-align: right;\">\n",
       "      <th></th>\n",
       "      <th>Término</th>\n",
       "      <th>Peso</th>\n",
       "    </tr>\n",
       "  </thead>\n",
       "  <tbody>\n",
       "    <tr>\n",
       "      <th>339</th>\n",
       "      <td>imag</td>\n",
       "      <td>0.056000</td>\n",
       "    </tr>\n",
       "    <tr>\n",
       "      <th>430</th>\n",
       "      <td>method</td>\n",
       "      <td>0.050679</td>\n",
       "    </tr>\n",
       "    <tr>\n",
       "      <th>58</th>\n",
       "      <td>base</td>\n",
       "      <td>0.039986</td>\n",
       "    </tr>\n",
       "    <tr>\n",
       "      <th>441</th>\n",
       "      <td>model</td>\n",
       "      <td>0.037147</td>\n",
       "    </tr>\n",
       "    <tr>\n",
       "      <th>277</th>\n",
       "      <td>featur</td>\n",
       "      <td>0.035324</td>\n",
       "    </tr>\n",
       "  </tbody>\n",
       "</table>\n",
       "</div>"
      ],
      "text/plain": [
       "    Término      Peso\n",
       "339    imag  0.056000\n",
       "430  method  0.050679\n",
       "58     base  0.039986\n",
       "441   model  0.037147\n",
       "277  featur  0.035324"
      ]
     },
     "execution_count": 14,
     "metadata": {},
     "output_type": "execute_result"
    }
   ],
   "source": [
    "tfidf = TfidfVectorizer(stop_words = 'english',\n",
    "        sublinear_tf = True,\n",
    "        strip_accents = 'ascii',\n",
    "        analyzer = 'word',\n",
    "        token_pattern = r'\\w{3,}',  #vectorize 2-character words or more\n",
    "        ngram_range = (1, 3),\n",
    "        max_features = 800,\n",
    "        max_df = 0.7)\n",
    "\n",
    "docTrans0 = tfidf.fit_transform(sentencesList[0][0])\n",
    "docTrans1 = tfidf.fit_transform(sentencesList[0][1])\n",
    "docTrans2 = tfidf.fit_transform(sentencesList[0][2])\n",
    "\n",
    "tfidf_matrix_list = [[docTrans0, docTrans1, docTrans2]]\n",
    "\n",
    "#print(tfidf.get_feature_names())\n",
    "#print(\"\")\n",
    "#print(tfidf.get_params())\n",
    "#print(\"\")\n",
    "#print(tfidf.get_stop_words())\n",
    "#print(\"\")\n",
    "#print(len(interestFieldsTokensSWords))     #samples, features\n",
    "#print(tfidf.vocabulary_)\n",
    "#print(tfidf.idf_)\n",
    "\n",
    "weights = np.asarray(tfidf_matrix_list[0][2].mean(axis = 0)).ravel().tolist()\n",
    "weights_df = pd.DataFrame({'Término': tfidf.get_feature_names(), 'Peso': weights})\n",
    "weights_df.sort_values(by = 'Peso', ascending = False).head()"
   ]
  },
  {
   "cell_type": "code",
   "execution_count": 15,
   "metadata": {},
   "outputs": [
    {
     "data": {
      "text/html": [
       "<div>\n",
       "<style scoped>\n",
       "    .dataframe tbody tr th:only-of-type {\n",
       "        vertical-align: middle;\n",
       "    }\n",
       "\n",
       "    .dataframe tbody tr th {\n",
       "        vertical-align: top;\n",
       "    }\n",
       "\n",
       "    .dataframe thead th {\n",
       "        text-align: right;\n",
       "    }\n",
       "</style>\n",
       "<table border=\"1\" class=\"dataframe\">\n",
       "  <thead>\n",
       "    <tr style=\"text-align: right;\">\n",
       "      <th></th>\n",
       "      <th>abil</th>\n",
       "      <th>accord</th>\n",
       "      <th>account</th>\n",
       "      <th>accur</th>\n",
       "      <th>accuraci</th>\n",
       "      <th>achiev</th>\n",
       "      <th>acquir</th>\n",
       "      <th>action</th>\n",
       "      <th>action recognit</th>\n",
       "      <th>activ</th>\n",
       "      <th>...</th>\n",
       "      <th>weak</th>\n",
       "      <th>weight</th>\n",
       "      <th>wide</th>\n",
       "      <th>window</th>\n",
       "      <th>word</th>\n",
       "      <th>work</th>\n",
       "      <th>work propos</th>\n",
       "      <th>world</th>\n",
       "      <th>year</th>\n",
       "      <th>yield</th>\n",
       "    </tr>\n",
       "  </thead>\n",
       "  <tbody>\n",
       "    <tr>\n",
       "      <th>0</th>\n",
       "      <td>0.0</td>\n",
       "      <td>0.0</td>\n",
       "      <td>0.000000</td>\n",
       "      <td>0.00000</td>\n",
       "      <td>0.000000</td>\n",
       "      <td>0.000000</td>\n",
       "      <td>0.000000</td>\n",
       "      <td>0.0</td>\n",
       "      <td>0.0</td>\n",
       "      <td>0.000000</td>\n",
       "      <td>...</td>\n",
       "      <td>0.0</td>\n",
       "      <td>0.0</td>\n",
       "      <td>0.0</td>\n",
       "      <td>0.0</td>\n",
       "      <td>0.0</td>\n",
       "      <td>0.000000</td>\n",
       "      <td>0.0</td>\n",
       "      <td>0.0</td>\n",
       "      <td>0.0</td>\n",
       "      <td>0.0</td>\n",
       "    </tr>\n",
       "    <tr>\n",
       "      <th>1</th>\n",
       "      <td>0.0</td>\n",
       "      <td>0.0</td>\n",
       "      <td>0.000000</td>\n",
       "      <td>0.00000</td>\n",
       "      <td>0.000000</td>\n",
       "      <td>0.000000</td>\n",
       "      <td>0.000000</td>\n",
       "      <td>0.0</td>\n",
       "      <td>0.0</td>\n",
       "      <td>0.000000</td>\n",
       "      <td>...</td>\n",
       "      <td>0.0</td>\n",
       "      <td>0.0</td>\n",
       "      <td>0.0</td>\n",
       "      <td>0.0</td>\n",
       "      <td>0.0</td>\n",
       "      <td>0.083849</td>\n",
       "      <td>0.0</td>\n",
       "      <td>0.0</td>\n",
       "      <td>0.0</td>\n",
       "      <td>0.0</td>\n",
       "    </tr>\n",
       "    <tr>\n",
       "      <th>2</th>\n",
       "      <td>0.0</td>\n",
       "      <td>0.0</td>\n",
       "      <td>0.113256</td>\n",
       "      <td>0.09149</td>\n",
       "      <td>0.000000</td>\n",
       "      <td>0.072503</td>\n",
       "      <td>0.131424</td>\n",
       "      <td>0.0</td>\n",
       "      <td>0.0</td>\n",
       "      <td>0.000000</td>\n",
       "      <td>...</td>\n",
       "      <td>0.0</td>\n",
       "      <td>0.0</td>\n",
       "      <td>0.0</td>\n",
       "      <td>0.0</td>\n",
       "      <td>0.0</td>\n",
       "      <td>0.076979</td>\n",
       "      <td>0.0</td>\n",
       "      <td>0.0</td>\n",
       "      <td>0.0</td>\n",
       "      <td>0.0</td>\n",
       "    </tr>\n",
       "    <tr>\n",
       "      <th>3</th>\n",
       "      <td>0.0</td>\n",
       "      <td>0.0</td>\n",
       "      <td>0.000000</td>\n",
       "      <td>0.00000</td>\n",
       "      <td>0.088922</td>\n",
       "      <td>0.000000</td>\n",
       "      <td>0.000000</td>\n",
       "      <td>0.0</td>\n",
       "      <td>0.0</td>\n",
       "      <td>0.000000</td>\n",
       "      <td>...</td>\n",
       "      <td>0.0</td>\n",
       "      <td>0.0</td>\n",
       "      <td>0.0</td>\n",
       "      <td>0.0</td>\n",
       "      <td>0.0</td>\n",
       "      <td>0.000000</td>\n",
       "      <td>0.0</td>\n",
       "      <td>0.0</td>\n",
       "      <td>0.0</td>\n",
       "      <td>0.0</td>\n",
       "    </tr>\n",
       "    <tr>\n",
       "      <th>4</th>\n",
       "      <td>0.0</td>\n",
       "      <td>0.0</td>\n",
       "      <td>0.000000</td>\n",
       "      <td>0.00000</td>\n",
       "      <td>0.000000</td>\n",
       "      <td>0.000000</td>\n",
       "      <td>0.000000</td>\n",
       "      <td>0.0</td>\n",
       "      <td>0.0</td>\n",
       "      <td>0.183356</td>\n",
       "      <td>...</td>\n",
       "      <td>0.0</td>\n",
       "      <td>0.0</td>\n",
       "      <td>0.0</td>\n",
       "      <td>0.0</td>\n",
       "      <td>0.0</td>\n",
       "      <td>0.000000</td>\n",
       "      <td>0.0</td>\n",
       "      <td>0.0</td>\n",
       "      <td>0.0</td>\n",
       "      <td>0.0</td>\n",
       "    </tr>\n",
       "  </tbody>\n",
       "</table>\n",
       "<p>5 rows × 800 columns</p>\n",
       "</div>"
      ],
      "text/plain": [
       "   abil  accord   account    accur  accuraci    achiev    acquir  action  \\\n",
       "0   0.0     0.0  0.000000  0.00000  0.000000  0.000000  0.000000     0.0   \n",
       "1   0.0     0.0  0.000000  0.00000  0.000000  0.000000  0.000000     0.0   \n",
       "2   0.0     0.0  0.113256  0.09149  0.000000  0.072503  0.131424     0.0   \n",
       "3   0.0     0.0  0.000000  0.00000  0.088922  0.000000  0.000000     0.0   \n",
       "4   0.0     0.0  0.000000  0.00000  0.000000  0.000000  0.000000     0.0   \n",
       "\n",
       "   action recognit     activ  ...    weak  weight  wide  window  word  \\\n",
       "0              0.0  0.000000  ...     0.0     0.0   0.0     0.0   0.0   \n",
       "1              0.0  0.000000  ...     0.0     0.0   0.0     0.0   0.0   \n",
       "2              0.0  0.000000  ...     0.0     0.0   0.0     0.0   0.0   \n",
       "3              0.0  0.000000  ...     0.0     0.0   0.0     0.0   0.0   \n",
       "4              0.0  0.183356  ...     0.0     0.0   0.0     0.0   0.0   \n",
       "\n",
       "       work  work propos  world  year  yield  \n",
       "0  0.000000          0.0    0.0   0.0    0.0  \n",
       "1  0.083849          0.0    0.0   0.0    0.0  \n",
       "2  0.076979          0.0    0.0   0.0    0.0  \n",
       "3  0.000000          0.0    0.0   0.0    0.0  \n",
       "4  0.000000          0.0    0.0   0.0    0.0  \n",
       "\n",
       "[5 rows x 800 columns]"
      ]
     },
     "execution_count": 15,
     "metadata": {},
     "output_type": "execute_result"
    }
   ],
   "source": [
    "pd.DataFrame(tfidf_matrix_list[0][2].toarray(), columns=tfidf.get_feature_names()).head()"
   ]
  },
  {
   "cell_type": "markdown",
   "metadata": {},
   "source": [
    "## CountVectorizer (TF)"
   ]
  },
  {
   "cell_type": "code",
   "execution_count": 17,
   "metadata": {},
   "outputs": [
    {
     "data": {
      "text/html": [
       "<div>\n",
       "<style scoped>\n",
       "    .dataframe tbody tr th:only-of-type {\n",
       "        vertical-align: middle;\n",
       "    }\n",
       "\n",
       "    .dataframe tbody tr th {\n",
       "        vertical-align: top;\n",
       "    }\n",
       "\n",
       "    .dataframe thead th {\n",
       "        text-align: right;\n",
       "    }\n",
       "</style>\n",
       "<table border=\"1\" class=\"dataframe\">\n",
       "  <thead>\n",
       "    <tr style=\"text-align: right;\">\n",
       "      <th></th>\n",
       "      <th>Término</th>\n",
       "      <th>Peso</th>\n",
       "    </tr>\n",
       "  </thead>\n",
       "  <tbody>\n",
       "    <tr>\n",
       "      <th>335</th>\n",
       "      <td>imag</td>\n",
       "      <td>2.044814</td>\n",
       "    </tr>\n",
       "    <tr>\n",
       "      <th>428</th>\n",
       "      <td>method</td>\n",
       "      <td>1.701665</td>\n",
       "    </tr>\n",
       "    <tr>\n",
       "      <th>57</th>\n",
       "      <td>base</td>\n",
       "      <td>1.129321</td>\n",
       "    </tr>\n",
       "    <tr>\n",
       "      <th>439</th>\n",
       "      <td>model</td>\n",
       "      <td>0.956466</td>\n",
       "    </tr>\n",
       "    <tr>\n",
       "      <th>273</th>\n",
       "      <td>featur</td>\n",
       "      <td>0.850192</td>\n",
       "    </tr>\n",
       "  </tbody>\n",
       "</table>\n",
       "</div>"
      ],
      "text/plain": [
       "    Término      Peso\n",
       "335    imag  2.044814\n",
       "428  method  1.701665\n",
       "57     base  1.129321\n",
       "439   model  0.956466\n",
       "273  featur  0.850192"
      ]
     },
     "execution_count": 17,
     "metadata": {},
     "output_type": "execute_result"
    }
   ],
   "source": [
    "tf = CountVectorizer(stop_words = 'english',\n",
    "        strip_accents = 'ascii',\n",
    "        analyzer = 'word',\n",
    "        token_pattern = r'\\w{3,}',  #vectorize 2-character words or more\n",
    "        ngram_range = (1, 3),\n",
    "        max_features = 800,\n",
    "        max_df = 0.7)\n",
    "\n",
    "docTrans0 = tf.fit_transform(sentencesList[0][0])\n",
    "docTrans1 = tf.fit_transform(sentencesList[0][1])\n",
    "docTrans2 = tf.fit_transform(sentencesList[0][2])\n",
    "\n",
    "tfidf_matrix_list = [[docTrans0, docTrans1, docTrans2]]\n",
    "\n",
    "weights = np.asarray(docTrans2.mean(axis = 0)).ravel().tolist()\n",
    "weights_df = pd.DataFrame({'Término': tf.get_feature_names(), 'Peso': weights})\n",
    "weights_df.sort_values(by = 'Peso', ascending = False).head()"
   ]
  },
  {
   "cell_type": "markdown",
   "metadata": {},
   "source": [
    "## Hashing "
   ]
  },
  {
   "cell_type": "code",
   "execution_count": 18,
   "metadata": {},
   "outputs": [],
   "source": [
    "hashing = HashingVectorizer(n_features = 500, stop_words = 'english')\n",
    "\n",
    "docTrans00 = hashing.fit_transform(sentencesList[0][0])\n",
    "docTrans11 = hashing.fit_transform(sentencesList[0][1])\n",
    "docTrans22 = hashing.fit_transform(sentencesList[0][2])\n",
    "\n",
    "tfidf_matrix_list = [[docTrans00, docTrans11, docTrans22]]"
   ]
  },
  {
   "cell_type": "markdown",
   "metadata": {},
   "source": [
    "# Reducción de características"
   ]
  },
  {
   "cell_type": "markdown",
   "metadata": {},
   "source": [
    "## LSA (elegir entre LSA o LDA)"
   ]
  },
  {
   "cell_type": "code",
   "execution_count": 19,
   "metadata": {},
   "outputs": [
    {
     "name": "stdout",
     "output_type": "stream",
     "text": [
      "El número de atributos calculados con TF-IDF es: 800\n",
      "\n",
      "---Reducción de dimensionalidad con LSA---\n",
      "Ha llevado 7.405 segundos\n",
      "Cantidad de información contenida en LSA (varianza): 97%\n"
     ]
    }
   ],
   "source": [
    "print(\"El número de atributos calculados con TF-IDF es: %d\" % docTrans0.get_shape()[1])\n",
    "\n",
    "print(\"\\n---Reducción de dimensionalidad con LSA---\")\n",
    "\n",
    "t0 = time.time()\n",
    "\n",
    "svd = TruncatedSVD(n_components = 500, n_iter = 100, random_state = 42)\n",
    "normalizer = Normalizer(copy = False)\n",
    "lsa = make_pipeline(svd, normalizer)\n",
    "\n",
    "tfidf_matrix_lsa0 = lsa.fit_transform(tfidf_matrix_list[0][0])\n",
    "tfidf_matrix_lsa1 = lsa.fit_transform(tfidf_matrix_list[0][1])\n",
    "tfidf_matrix_lsa2 = lsa.fit_transform(tfidf_matrix_list[0][2])\n",
    "\n",
    "tfidf_matrix_lsa = [[tfidf_matrix_lsa0, tfidf_matrix_lsa1, tfidf_matrix_lsa2]]\n",
    "\n",
    "print(\"Ha llevado %.3f segundos\" % (time.time() - t0))\n",
    "\n",
    "variance_lsa = svd.explained_variance_ratio_.sum()\n",
    "\n",
    "print(\"Cantidad de información contenida en LSA (varianza): {}%\".format(int(variance_lsa * 100)))"
   ]
  },
  {
   "cell_type": "markdown",
   "metadata": {},
   "source": [
    "## LDA"
   ]
  },
  {
   "cell_type": "code",
   "execution_count": 20,
   "metadata": {},
   "outputs": [
    {
     "name": "stdout",
     "output_type": "stream",
     "text": [
      "El número de atributos calculados con TF-IDF es: 800\n",
      "\n",
      "---Reducción de dimensionalidad con LDA---\n",
      "Ha llevado 22.647 segundos\n"
     ]
    }
   ],
   "source": [
    "print(\"El número de atributos calculados con TF-IDF es: %d\" % docTrans0.get_shape()[1])\n",
    "\n",
    "print(\"\\n---Reducción de dimensionalidad con LDA---\")\n",
    "\n",
    "t0 = time.time()\n",
    "\n",
    "lda = LatentDirichletAllocation(n_components = 500, learning_method = 'online', random_state = 0, verbose = 0)\n",
    "\n",
    "tfidf_matrix_lda0 = lda.fit_transform(tfidf_matrix_list[0][0])\n",
    "tfidf_matrix_lda1 = lda.fit_transform(tfidf_matrix_list[0][1])\n",
    "tfidf_matrix_lda2 = lda.fit_transform(tfidf_matrix_list[0][2])\n",
    "\n",
    "tfidf_matrix_lda = [[tfidf_matrix_lda0, tfidf_matrix_lda1, tfidf_matrix_lda2]]\n",
    "\n",
    "print(\"Ha llevado %.3f segundos\" % (time.time() - t0))"
   ]
  },
  {
   "cell_type": "markdown",
   "metadata": {},
   "source": [
    "# Clustering"
   ]
  },
  {
   "cell_type": "markdown",
   "metadata": {},
   "source": [
    "## Kmeans + LSA"
   ]
  },
  {
   "cell_type": "code",
   "execution_count": 21,
   "metadata": {},
   "outputs": [
    {
     "name": "stdout",
     "output_type": "stream",
     "text": [
      "Homogeneity: 0.042\n",
      "Completeness: 0.040\n",
      "V-measure: 0.041\n",
      "Adjusted Rand-Index: 0.033\n",
      "Silhouette Coefficient: 0.009\n",
      "\n",
      "Homogeneity: 0.021\n",
      "Completeness: 0.025\n",
      "V-measure: 0.023\n",
      "Adjusted Rand-Index: 0.045\n",
      "Silhouette Coefficient: 0.013\n",
      "\n",
      "Homogeneity: 0.206\n",
      "Completeness: 0.180\n",
      "V-measure: 0.192\n",
      "Adjusted Rand-Index: 0.136\n",
      "Silhouette Coefficient: 0.011\n",
      "\n"
     ]
    }
   ],
   "source": [
    "for i in range(len(tfidf_matrix_lsa[0])):\n",
    "    kmeans = KMeans(n_clusters = 3, random_state = 0, max_iter = 1000).fit(tfidf_matrix_lsa[0][i])\n",
    "\n",
    "    print(\"Homogeneity: %0.3f\" % metrics.homogeneity_score(np.array(classList), kmeans.labels_))\n",
    "    print(\"Completeness: %0.3f\" % metrics.completeness_score(np.array(classList), kmeans.labels_))\n",
    "    print(\"V-measure: %0.3f\" % metrics.v_measure_score(np.array(classList), kmeans.labels_))\n",
    "    print(\"Adjusted Rand-Index: %.3f\"\n",
    "          % metrics.adjusted_rand_score(np.array(classList), kmeans.labels_))\n",
    "    print(\"Silhouette Coefficient: %0.3f\"\n",
    "          % metrics.silhouette_score(tfidf_matrix_lsa[0][i], kmeans.labels_, sample_size=1000))\n",
    "    print(\"\")"
   ]
  },
  {
   "cell_type": "markdown",
   "metadata": {},
   "source": [
    "## Kmeans + LDA"
   ]
  },
  {
   "cell_type": "code",
   "execution_count": 22,
   "metadata": {},
   "outputs": [
    {
     "name": "stdout",
     "output_type": "stream",
     "text": [
      "Homogeneity: 0.045\n",
      "Completeness: 0.043\n",
      "V-measure: 0.044\n",
      "Adjusted Rand-Index: 0.042\n",
      "Silhouette Coefficient: 0.280\n",
      "\n",
      "Homogeneity: 0.006\n",
      "Completeness: 0.006\n",
      "V-measure: 0.006\n",
      "Adjusted Rand-Index: 0.001\n",
      "Silhouette Coefficient: 0.366\n",
      "\n",
      "Homogeneity: 0.044\n",
      "Completeness: 0.041\n",
      "V-measure: 0.042\n",
      "Adjusted Rand-Index: 0.049\n",
      "Silhouette Coefficient: 0.528\n",
      "\n"
     ]
    }
   ],
   "source": [
    "for i in range(len(tfidf_matrix_lda[0])):\n",
    "    kmeans = KMeans(n_clusters = 3, random_state = 0, max_iter = 1000).fit(tfidf_matrix_lda[0][i])\n",
    "\n",
    "    print(\"Homogeneity: %0.3f\" % metrics.homogeneity_score(np.array(classList), kmeans.labels_))\n",
    "    print(\"Completeness: %0.3f\" % metrics.completeness_score(np.array(classList), kmeans.labels_))\n",
    "    print(\"V-measure: %0.3f\" % metrics.v_measure_score(np.array(classList), kmeans.labels_))\n",
    "    print(\"Adjusted Rand-Index: %.3f\"\n",
    "          % metrics.adjusted_rand_score(np.array(classList), kmeans.labels_))\n",
    "    print(\"Silhouette Coefficient: %0.3f\"\n",
    "          % metrics.silhouette_score(tfidf_matrix_lda[0][i], kmeans.labels_, sample_size=1000))\n",
    "    print(\"\")"
   ]
  },
  {
   "cell_type": "markdown",
   "metadata": {},
   "source": [
    "## MiniBatchKMeans + LSA"
   ]
  },
  {
   "cell_type": "code",
   "execution_count": 23,
   "metadata": {},
   "outputs": [
    {
     "name": "stdout",
     "output_type": "stream",
     "text": [
      "Homogeneity: 0.002\n",
      "Completeness: 0.113\n",
      "V-measure: 0.005\n",
      "Adjusted Rand-Index: -0.000\n",
      "Silhouette Coefficient: -0.008\n",
      "\n",
      "Homogeneity: 0.002\n",
      "Completeness: 0.023\n",
      "V-measure: 0.004\n",
      "Adjusted Rand-Index: -0.006\n",
      "Silhouette Coefficient: -0.014\n",
      "\n",
      "Homogeneity: 0.102\n",
      "Completeness: 0.329\n",
      "V-measure: 0.155\n",
      "Adjusted Rand-Index: 0.096\n",
      "Silhouette Coefficient: 0.005\n",
      "\n"
     ]
    }
   ],
   "source": [
    "for i in range(len(tfidf_matrix_lsa[0])):    \n",
    "    kmeansmini = MiniBatchKMeans(n_clusters=3, random_state=0, batch_size=6).fit(tfidf_matrix_lsa[0][i])\n",
    "\n",
    "    print(\"Homogeneity: %0.3f\" % metrics.homogeneity_score(np.array(classList), kmeansmini.labels_))\n",
    "    print(\"Completeness: %0.3f\" % metrics.completeness_score(np.array(classList), kmeansmini.labels_))\n",
    "    print(\"V-measure: %0.3f\" % metrics.v_measure_score(np.array(classList), kmeansmini.labels_))\n",
    "    print(\"Adjusted Rand-Index: %.3f\"\n",
    "          % metrics.adjusted_rand_score(np.array(classList), kmeansmini.labels_))\n",
    "    print(\"Silhouette Coefficient: %0.3f\"\n",
    "          % metrics.silhouette_score(tfidf_matrix_lsa[0][i], kmeansmini.labels_, sample_size=1000))\n",
    "    print(\"\")"
   ]
  },
  {
   "cell_type": "markdown",
   "metadata": {},
   "source": [
    "## MiniBatchKMeans + LDA"
   ]
  },
  {
   "cell_type": "code",
   "execution_count": 24,
   "metadata": {},
   "outputs": [
    {
     "name": "stdout",
     "output_type": "stream",
     "text": [
      "Homogeneity: 0.041\n",
      "Completeness: 0.042\n",
      "V-measure: 0.042\n",
      "Adjusted Rand-Index: 0.078\n",
      "Silhouette Coefficient: 0.304\n",
      "\n",
      "Homogeneity: 0.018\n",
      "Completeness: 0.017\n",
      "V-measure: 0.018\n",
      "Adjusted Rand-Index: 0.019\n",
      "Silhouette Coefficient: 0.418\n",
      "\n",
      "Homogeneity: 0.041\n",
      "Completeness: 0.041\n",
      "V-measure: 0.041\n",
      "Adjusted Rand-Index: 0.053\n",
      "Silhouette Coefficient: 0.507\n",
      "\n"
     ]
    }
   ],
   "source": [
    "for i in range(len(tfidf_matrix_lda[0])):    \n",
    "    kmeansmini = MiniBatchKMeans(n_clusters=3, random_state=0, batch_size=6).fit(tfidf_matrix_lda[0][i])\n",
    "\n",
    "    print(\"Homogeneity: %0.3f\" % metrics.homogeneity_score(np.array(classList), kmeansmini.labels_))\n",
    "    print(\"Completeness: %0.3f\" % metrics.completeness_score(np.array(classList), kmeansmini.labels_))\n",
    "    print(\"V-measure: %0.3f\" % metrics.v_measure_score(np.array(classList), kmeansmini.labels_))\n",
    "    print(\"Adjusted Rand-Index: %.3f\"\n",
    "          % metrics.adjusted_rand_score(np.array(classList), kmeansmini.labels_))\n",
    "    print(\"Silhouette Coefficient: %0.3f\"\n",
    "          % metrics.silhouette_score(tfidf_matrix_lda[0][i], kmeansmini.labels_, sample_size=1000))\n",
    "    print(\"\")"
   ]
  },
  {
   "cell_type": "markdown",
   "metadata": {},
   "source": [
    "## Agglomerative (Hierarchical + cosine) + LSA"
   ]
  },
  {
   "cell_type": "code",
   "execution_count": 25,
   "metadata": {},
   "outputs": [
    {
     "name": "stdout",
     "output_type": "stream",
     "text": [
      "Homogeneity: 0.001\n",
      "Completeness: 0.011\n",
      "V-measure: 0.002\n",
      "Adjusted Rand-Index: 0.001\n",
      "Silhouette Coefficient: 0.230\n",
      "\n",
      "Homogeneity: 0.003\n",
      "Completeness: 0.150\n",
      "V-measure: 0.006\n",
      "Adjusted Rand-Index: 0.002\n",
      "Silhouette Coefficient: 0.542\n",
      "\n",
      "Homogeneity: 0.017\n",
      "Completeness: 0.033\n",
      "V-measure: 0.023\n",
      "Adjusted Rand-Index: 0.012\n",
      "Silhouette Coefficient: 0.546\n",
      "\n"
     ]
    }
   ],
   "source": [
    "for i in range(len(tfidf_matrix_lsa[0])):\n",
    "    HAC = AgglomerativeClustering(n_clusters = 3, affinity = 'cosine', linkage = 'average').fit(tfidf_matrix_lda[0][i])  \n",
    "    print(\"Homogeneity: %0.3f\" % metrics.homogeneity_score(np.array(classList), HAC.labels_))\n",
    "    print(\"Completeness: %0.3f\" % metrics.completeness_score(np.array(classList), HAC.labels_))\n",
    "    print(\"V-measure: %0.3f\" % metrics.v_measure_score(np.array(classList), HAC.labels_))\n",
    "    print(\"Adjusted Rand-Index: %.3f\"\n",
    "          % metrics.adjusted_rand_score(np.array(classList), HAC.labels_))\n",
    "    print(\"Silhouette Coefficient: %0.3f\"\n",
    "          % metrics.silhouette_score(tfidf_matrix_lda[0][i], HAC.labels_, sample_size=1000))\n",
    "    print(\"\")"
   ]
  },
  {
   "cell_type": "markdown",
   "metadata": {},
   "source": [
    "## Kmeans (cosine distance) + LSA "
   ]
  },
  {
   "cell_type": "code",
   "execution_count": 26,
   "metadata": {},
   "outputs": [
    {
     "name": "stdout",
     "output_type": "stream",
     "text": [
      "Homogeneity: 0.012\n",
      "Completeness: 0.011\n",
      "V-measure: 0.012\n",
      "Adjusted Rand-Index: 0.002\n",
      "Silhouette Coefficient: 0.007\n",
      "\n",
      "Warning: means will be discarded for subsequent trials\n",
      "Homogeneity: 0.104\n",
      "Completeness: 0.093\n",
      "V-measure: 0.098\n",
      "Adjusted Rand-Index: 0.097\n",
      "Silhouette Coefficient: 0.011\n",
      "\n",
      "Warning: means will be discarded for subsequent trials\n",
      "Homogeneity: 0.169\n",
      "Completeness: 0.148\n",
      "V-measure: 0.158\n",
      "Adjusted Rand-Index: 0.096\n",
      "Silhouette Coefficient: 0.009\n",
      "\n"
     ]
    }
   ],
   "source": [
    "kcluster = KMeansClusterer(3, distance = cosine_distance, repeats = 5)\n",
    "\n",
    "for i in range(len(tfidf_matrix_lsa[0])):\n",
    "    assigned_clusters = kcluster.cluster(tfidf_matrix_lsa[0][i], assign_clusters = True)\n",
    "\n",
    "    print(\"Homogeneity: %0.3f\" % metrics.homogeneity_score(np.array(classList), assigned_clusters))\n",
    "    print(\"Completeness: %0.3f\" % metrics.completeness_score(np.array(classList), assigned_clusters))\n",
    "    print(\"V-measure: %0.3f\" % metrics.v_measure_score(np.array(classList), assigned_clusters))\n",
    "    print(\"Adjusted Rand-Index: %.3f\"\n",
    "          % metrics.adjusted_rand_score(np.array(classList), assigned_clusters))\n",
    "    print(\"Silhouette Coefficient: %0.3f\"\n",
    "          % metrics.silhouette_score(tfidf_matrix_lsa[0][i], assigned_clusters, sample_size=1000))\n",
    "    print(\"\")"
   ]
  },
  {
   "cell_type": "markdown",
   "metadata": {},
   "source": [
    "## TSNE (visualización)"
   ]
  },
  {
   "cell_type": "code",
   "execution_count": 27,
   "metadata": {},
   "outputs": [
    {
     "data": {
      "image/png": "[encoded data removed]",
      "text/plain": [
       "<Figure size 432x288 with 1 Axes>"
      ]
     },
     "metadata": {
      "needs_background": "light"
     },
     "output_type": "display_data"
    },
    {
     "data": {
      "image/png": "[encoded data removed]",
      "text/plain": [
       "<Figure size 432x288 with 1 Axes>"
      ]
     },
     "metadata": {
      "needs_background": "light"
     },
     "output_type": "display_data"
    },
    {
     "data": {
      "image/png": "[encoded data removed]",
      "text/plain": [
       "<Figure size 432x288 with 1 Axes>"
      ]
     },
     "metadata": {
      "needs_background": "light"
     },
     "output_type": "display_data"
    }
   ],
   "source": [
    "tsne = TSNE(learning_rate = 100)\n",
    "\n",
    "for i in range(len(tfidf_matrix_lsa[0])):\n",
    "    transformedTSNE = tsne.fit_transform(tfidf_matrix_lsa[0][i])\n",
    "\n",
    "    x_axis = transformedTSNE[:, 0]\n",
    "    y_axis = transformedTSNE[:, 1]\n",
    "\n",
    "    plt.scatter(x_axis, y_axis, c = np.array(classList))\n",
    "    plt.show()"
   ]
  },
  {
   "cell_type": "markdown",
   "metadata": {},
   "source": [
    "# Clasificación"
   ]
  },
  {
   "cell_type": "markdown",
   "metadata": {},
   "source": [
    "## TF-IDF"
   ]
  },
  {
   "cell_type": "code",
   "execution_count": 30,
   "metadata": {},
   "outputs": [],
   "source": [
    "X_train0, X_test0, y_train0, y_test0 = train_test_split(sentencesList[0][0], np.array(classList), \n",
    "                                                    test_size = 0.3, random_state = 42)\n",
    "X_train1, X_test1, y_train1, y_test1 = train_test_split(sentencesList[0][1], np.array(classList), \n",
    "                                                    test_size = 0.3, random_state = 42)\n",
    "X_train2, X_test2, y_train2, y_test2 = train_test_split(sentencesList[0][2], np.array(classList), \n",
    "                                                    test_size = 0.3, random_state = 42)\n",
    "\n",
    "X_train_tfidf0 = tfidf.fit_transform(X_train0)\n",
    "X_train_tfidf1 = tfidf.fit_transform(X_train1)\n",
    "X_train_tfidf2 = tfidf.fit_transform(X_train2)\n",
    "\n",
    "X_train_tfidf = [[X_train_tfidf0, X_train_tfidf1, X_train_tfidf2]]\n",
    "\n",
    "X_test_tfidf0 = tfidf.transform(X_test0)\n",
    "X_test_tfidf1 = tfidf.transform(X_test1)\n",
    "X_test_tfidf2 = tfidf.transform(X_test2)\n",
    "\n",
    "X_test_tfidf = [[X_test_tfidf0, X_test_tfidf1, X_test_tfidf2]]\n",
    "\n",
    "y_train = [[y_train0, y_train1, y_train2]]\n",
    "y_test = [[y_test0, y_test1, y_test2]]"
   ]
  },
  {
   "cell_type": "markdown",
   "metadata": {},
   "source": [
    "## TF"
   ]
  },
  {
   "cell_type": "code",
   "execution_count": null,
   "metadata": {},
   "outputs": [],
   "source": [
    "X_train0, X_test0, y_train0, y_test0 = train_test_split(sentencesList[0][0], np.array(classList), \n",
    "                                                    test_size = 0.3, random_state = 42)\n",
    "X_train1, X_test1, y_train1, y_test1 = train_test_split(sentencesList[0][1], np.array(classList), \n",
    "                                                    test_size = 0.3, random_state = 42)\n",
    "X_train2, X_test2, y_train2, y_test2 = train_test_split(sentencesList[0][2], np.array(classList), \n",
    "                                                    test_size = 0.3, random_state = 42)\n",
    "\n",
    "X_train_tfidf0 = tf.fit_transform(X_train0)\n",
    "X_train_tfidf1 = tf.fit_transform(X_train1)\n",
    "X_train_tfidf2 = tf.fit_transform(X_train2)\n",
    "\n",
    "X_train_tfidf = [[X_train_tfidf0, X_train_tfidf1, X_train_tfidf2]]\n",
    "\n",
    "X_test_tfidf0 = tf.transform(X_test0)\n",
    "X_test_tfidf1 = tf.transform(X_test1)\n",
    "X_test_tfidf2 = tf.transform(X_test2)\n",
    "\n",
    "X_test_tfidf = [[X_test_tfidf0, X_test_tfidf1, X_test_tfidf2]]\n",
    "\n",
    "y_train = [[y_train0, y_train1, y_train2]]\n",
    "y_test = [[y_test0, y_test1, y_test2]]"
   ]
  },
  {
   "cell_type": "markdown",
   "metadata": {},
   "source": [
    "## LSA"
   ]
  },
  {
   "cell_type": "code",
   "execution_count": 31,
   "metadata": {},
   "outputs": [
    {
     "name": "stdout",
     "output_type": "stream",
     "text": [
      "El número de atributos calculados con TF-IDF es: 800\n",
      "\n",
      "---Reducción de dimensionalidad con LSA---\n",
      "Ha llevado 0.743 segundos\n",
      "Cantidad de información contenida en LSA (varianza): 89%\n"
     ]
    }
   ],
   "source": [
    "print(\"El número de atributos calculados con TF-IDF es: %d\" % X_train_tfidf0.get_shape()[1])\n",
    "\n",
    "print(\"\\n---Reducción de dimensionalidad con LSA---\")\n",
    "\n",
    "t0 = time.time()\n",
    "\n",
    "svd = TruncatedSVD(n_components=300, n_iter=100, random_state=42, algorithm=\"arpack\")\n",
    "lsa = make_pipeline(svd, Normalizer(copy=False))\n",
    "\n",
    "X_train_lsa0 = lsa.fit_transform(X_train_tfidf0)\n",
    "X_train_lsa1 = lsa.fit_transform(X_train_tfidf1)\n",
    "X_train_lsa2 = lsa.fit_transform(X_train_tfidf2)\n",
    "\n",
    "X_train_lsa = [[X_train_lsa0, X_train_lsa1, X_train_lsa2]]\n",
    "\n",
    "print(\"Ha llevado %.3f segundos\" % (time.time() - t0))\n",
    "\n",
    "X_test_lsa0 = lsa.transform(X_test_tfidf0)\n",
    "X_test_lsa1 = lsa.transform(X_test_tfidf1)\n",
    "X_test_lsa2 = lsa.transform(X_test_tfidf2)\n",
    "\n",
    "X_test_lsa = [[X_test_lsa0, X_test_lsa1, X_test_lsa2]]\n",
    "\n",
    "variance_lsa = svd.explained_variance_ratio_.sum()\n",
    "\n",
    "print(\"Cantidad de información contenida en LSA (varianza): {}%\".format(int(variance_lsa * 100)))"
   ]
  },
  {
   "cell_type": "markdown",
   "metadata": {},
   "source": [
    "## LDA"
   ]
  },
  {
   "cell_type": "code",
   "execution_count": 32,
   "metadata": {},
   "outputs": [
    {
     "name": "stdout",
     "output_type": "stream",
     "text": [
      "---Reducción de dimensionalidad con LDA---\n",
      "Ha llevado 7.057 segundos\n"
     ]
    }
   ],
   "source": [
    "print(\"---Reducción de dimensionalidad con LDA---\")\n",
    "\n",
    "t0 = time.time()\n",
    "\n",
    "lda = LatentDirichletAllocation(n_components = 300, learning_method = 'batch', random_state = 0, verbose = 0)\n",
    "\n",
    "X_train_lda0 = lda.fit_transform(X_train_tfidf0)\n",
    "X_train_lda1 = lda.fit_transform(X_train_tfidf1)\n",
    "X_train_lda2 = lda.fit_transform(X_train_tfidf2)\n",
    "\n",
    "X_train_lda = [[X_train_lda0, X_train_lda1, X_train_lda2]]\n",
    "\n",
    "print(\"Ha llevado %.3f segundos\" % (time.time() - t0))\n",
    "\n",
    "X_test_lda0 = lda.transform(X_test_tfidf0)\n",
    "X_test_lda1 = lda.transform(X_test_tfidf1)\n",
    "X_test_lda2 = lda.transform(X_test_tfidf2)\n",
    "\n",
    "X_test_lda = [[X_test_lda0, X_test_lda1, X_test_lda2]]"
   ]
  },
  {
   "cell_type": "markdown",
   "metadata": {},
   "source": [
    "## Complement ND "
   ]
  },
  {
   "cell_type": "code",
   "execution_count": 33,
   "metadata": {},
   "outputs": [
    {
     "name": "stdout",
     "output_type": "stream",
     "text": [
      "0.33617021\n",
      "0.44255319\n",
      "0.77872340\n"
     ]
    }
   ],
   "source": [
    "clf = ComplementNB(alpha = 3.0, class_prior = [0.5, 0.17, 0.33], norm = True)\n",
    "\n",
    "for i in range(len(X_train_tfidf[0])):\n",
    "    clf.fit(X_train_tfidf[0][i], y_train[0][i])\n",
    "    y_pred = clf.predict(X_test_tfidf[0][i])\n",
    "    resultado_ND = metrics.accuracy_score(y_pred, y_test[0][i]) \n",
    "\n",
    "    print(\"%0.8f\" % resultado_ND)"
   ]
  },
  {
   "cell_type": "markdown",
   "metadata": {},
   "source": [
    "## PassiveAggressiveClassifier"
   ]
  },
  {
   "cell_type": "code",
   "execution_count": 34,
   "metadata": {},
   "outputs": [
    {
     "name": "stdout",
     "output_type": "stream",
     "text": [
      "0.46382979\n",
      "0.45957447\n",
      "0.72765957\n"
     ]
    }
   ],
   "source": [
    "clfp = PassiveAggressiveClassifier(max_iter = 1000, random_state = 42, tol = 1e-5)\n",
    "    \n",
    "for i in range(len(X_train_tfidf[0])):\n",
    "    clfp.fit(X_train_tfidf[0][i], y_train[0][i])\n",
    "    y_pred = clfp.predict(X_test_tfidf[0][i])\n",
    "    resultado_PAC = metrics.accuracy_score(y_pred, y_test[0][i]) \n",
    "\n",
    "    print(\"%0.8f\" % resultado_PAC)"
   ]
  },
  {
   "cell_type": "markdown",
   "metadata": {},
   "source": [
    "## PassiveAggressiveClassifier + LSA"
   ]
  },
  {
   "cell_type": "code",
   "execution_count": 35,
   "metadata": {},
   "outputs": [
    {
     "name": "stdout",
     "output_type": "stream",
     "text": [
      "0.48936170\n",
      "0.38723404\n",
      "0.68936170\n"
     ]
    }
   ],
   "source": [
    "clfp = PassiveAggressiveClassifier(max_iter = 1000, random_state = 42, tol = 1e-5)\n",
    "    \n",
    "for i in range(len(X_train_tfidf[0])):\n",
    "    clfp.fit(X_train_lsa[0][i], y_train[0][i])\n",
    "    y_pred = clfp.predict(X_test_lsa[0][i])\n",
    "    resultado_PAC_LSA = metrics.accuracy_score(y_pred, y_test[0][i]) \n",
    "\n",
    "    print(\"%0.8f\" % resultado_PAC_LSA)"
   ]
  },
  {
   "cell_type": "markdown",
   "metadata": {},
   "source": [
    "## PassiveAggressiveClassifier + LDA"
   ]
  },
  {
   "cell_type": "code",
   "execution_count": 36,
   "metadata": {},
   "outputs": [
    {
     "name": "stdout",
     "output_type": "stream",
     "text": [
      "0.55319149\n",
      "0.55319149\n",
      "0.55319149\n"
     ]
    }
   ],
   "source": [
    "clfp = PassiveAggressiveClassifier(max_iter = 1000, random_state = 0, tol = 1e-3)\n",
    "    \n",
    "for i in range(len(X_train_tfidf[0])):\n",
    "    clfp.fit(X_train_lda[0][i], y_train[0][i])\n",
    "    y_pred = clfp.predict(X_test_lda[0][i])\n",
    "    resultado_PAC_LDA = metrics.accuracy_score(y_pred, y_test[0][i]) \n",
    "\n",
    "    print(\"%0.8f\" % resultado_PAC_LDA)"
   ]
  },
  {
   "cell_type": "markdown",
   "metadata": {},
   "source": [
    "## SGDClassifier"
   ]
  },
  {
   "cell_type": "code",
   "execution_count": 37,
   "metadata": {},
   "outputs": [
    {
     "name": "stdout",
     "output_type": "stream",
     "text": [
      "0.46808511\n",
      "0.46382979\n",
      "0.71489362\n"
     ]
    }
   ],
   "source": [
    "clfs = linear_model.SGDClassifier(max_iter=1000, tol=1e-3)\n",
    "\n",
    "for i in range(len(X_train_tfidf[0])):\n",
    "    clfs.fit(X_train_tfidf[0][i], y_train[0][i])\n",
    "    y_pred = clfs.predict(X_test_tfidf[0][i])\n",
    "    resultado_SGD = metrics.accuracy_score(y_pred, y_test[0][i]) \n",
    "\n",
    "    print(\"%0.8f\" % resultado_SGD)"
   ]
  },
  {
   "cell_type": "markdown",
   "metadata": {},
   "source": [
    "## SGDClassifier + LSA"
   ]
  },
  {
   "cell_type": "code",
   "execution_count": 38,
   "metadata": {},
   "outputs": [
    {
     "name": "stdout",
     "output_type": "stream",
     "text": [
      "0.47659574\n",
      "0.38297872\n",
      "0.71914894\n"
     ]
    }
   ],
   "source": [
    "clfs = linear_model.SGDClassifier(max_iter=1000, tol=1e-3)\n",
    "\n",
    "for i in range(len(X_train_tfidf[0])):\n",
    "    clfs.fit(X_train_lsa[0][i], y_train[0][i])\n",
    "    y_pred = clfs.predict(X_test_lsa[0][i])\n",
    "    resultado_SGD_LSA = metrics.accuracy_score(y_pred, y_test[0][i]) \n",
    "\n",
    "    print(\"%0.8f\" % resultado_SGD_LSA)"
   ]
  },
  {
   "cell_type": "markdown",
   "metadata": {},
   "source": [
    "## SGDClassifier + LDA"
   ]
  },
  {
   "cell_type": "code",
   "execution_count": 39,
   "metadata": {},
   "outputs": [
    {
     "name": "stdout",
     "output_type": "stream",
     "text": [
      "0.55319149\n",
      "0.55319149\n",
      "0.57446809\n"
     ]
    }
   ],
   "source": [
    "clfs = linear_model.SGDClassifier(max_iter=1000, tol=1e-3)\n",
    "\n",
    "for i in range(len(X_train_tfidf[0])):\n",
    "    clfs.fit(X_train_lda[0][i], y_train[0][i])\n",
    "    y_pred = clfs.predict(X_test_lda[0][i])\n",
    "    resultado_SGD_LDA = metrics.accuracy_score(y_pred, y_test[0][i]) \n",
    "\n",
    "    print(\"%0.8f\" % resultado_SGD_LDA)"
   ]
  },
  {
   "cell_type": "markdown",
   "metadata": {},
   "source": [
    "## SVC"
   ]
  },
  {
   "cell_type": "code",
   "execution_count": 40,
   "metadata": {},
   "outputs": [
    {
     "name": "stdout",
     "output_type": "stream",
     "text": [
      "0.48936170\n",
      "0.48085106\n",
      "0.74042553\n"
     ]
    }
   ],
   "source": [
    "from sklearn.svm import LinearSVC\n",
    "\n",
    "clfv = LinearSVC(random_state=42, tol=1e-9, C=4, max_iter=10000)\n",
    "\n",
    "for i in range(len(X_train_tfidf[0])):\n",
    "    clfv.fit(X_train_tfidf[0][i], y_train[0][i])\n",
    "    y_pred = clfv.predict(X_test_tfidf[0][i])\n",
    "    resultado_SVC = metrics.accuracy_score(y_pred, y_test[0][i]) \n",
    "\n",
    "    print(\"%0.8f\" % resultado_SVC)"
   ]
  },
  {
   "cell_type": "markdown",
   "metadata": {},
   "source": [
    "## SVC + LSA"
   ]
  },
  {
   "cell_type": "code",
   "execution_count": 41,
   "metadata": {},
   "outputs": [
    {
     "name": "stdout",
     "output_type": "stream",
     "text": [
      "0.47234043\n",
      "0.37021277\n",
      "0.71489362\n"
     ]
    }
   ],
   "source": [
    "from sklearn.svm import LinearSVC\n",
    "\n",
    "clfv = LinearSVC(random_state=42, tol=1e-9, C=4, max_iter=10000)\n",
    "\n",
    "for i in range(len(X_train_tfidf[0])):\n",
    "    clfv.fit(X_train_lsa[0][i], y_train[0][i])\n",
    "    y_pred = clfv.predict(X_test_lsa[0][i])\n",
    "    resultado_SVC_LSA = metrics.accuracy_score(y_pred, y_test[0][i]) \n",
    "\n",
    "    print(\"%0.8f\" % resultado_SVC_LSA)"
   ]
  },
  {
   "cell_type": "markdown",
   "metadata": {},
   "source": [
    "## SVC + LDA"
   ]
  },
  {
   "cell_type": "code",
   "execution_count": 42,
   "metadata": {},
   "outputs": [
    {
     "name": "stdout",
     "output_type": "stream",
     "text": [
      "0.55319149\n",
      "0.55319149\n",
      "0.62127660\n"
     ]
    }
   ],
   "source": [
    "clfv = LinearSVC(random_state=42, tol=1e-5, C=3, max_iter=5000)\n",
    "\n",
    "for i in range(len(X_train_tfidf[0])):\n",
    "    clfv.fit(X_train_lda[0][i], y_train[0][i])\n",
    "    y_pred = clfv.predict(X_test_lda[0][i])\n",
    "    resultado_SVC_LDA = metrics.accuracy_score(y_pred, y_test[0][i]) \n",
    "\n",
    "    print(\"%0.8f\" % resultado_SVC_LDA)"
   ]
  },
  {
   "cell_type": "markdown",
   "metadata": {},
   "source": [
    "## RandomForest"
   ]
  },
  {
   "cell_type": "code",
   "execution_count": 43,
   "metadata": {},
   "outputs": [
    {
     "name": "stdout",
     "output_type": "stream",
     "text": [
      "0.55744681\n",
      "0.54042553\n",
      "0.71489362\n"
     ]
    }
   ],
   "source": [
    "\n",
    "\n",
    "clfr = RandomForestClassifier(n_estimators=500, max_depth=100,random_state=0)\n",
    "\n",
    "for i in range(len(X_train_tfidf[0])):\n",
    "    clfr.fit(X_train_tfidf[0][i], y_train[0][i])\n",
    "    y_pred = clfr.predict(X_test_tfidf[0][i])\n",
    "    resultado_RF = metrics.accuracy_score(y_pred, y_test[0][i]) \n",
    "\n",
    "    print(\"%0.8f\" % resultado_RF)"
   ]
  },
  {
   "cell_type": "markdown",
   "metadata": {},
   "source": [
    "## RandomForest + LSA"
   ]
  },
  {
   "cell_type": "code",
   "execution_count": 44,
   "metadata": {},
   "outputs": [
    {
     "name": "stdout",
     "output_type": "stream",
     "text": [
      "0.55319149\n",
      "0.55744681\n",
      "0.64680851\n"
     ]
    }
   ],
   "source": [
    "clfr = RandomForestClassifier(n_estimators=500, max_depth=100,random_state=0)\n",
    "\n",
    "for i in range(len(X_train_tfidf[0])):\n",
    "    clfr.fit(X_train_lsa[0][i], y_train[0][i])\n",
    "    y_pred = clfr.predict(X_test_lsa[0][i])\n",
    "    resultado_RF_LSA = metrics.accuracy_score(y_pred, y_test[0][i]) \n",
    "\n",
    "    print(\"%0.8f\" % resultado_RF_LSA)"
   ]
  },
  {
   "cell_type": "markdown",
   "metadata": {},
   "source": [
    "## Logistic Regresion "
   ]
  },
  {
   "cell_type": "code",
   "execution_count": 45,
   "metadata": {},
   "outputs": [
    {
     "name": "stdout",
     "output_type": "stream",
     "text": [
      "0.54468085\n",
      "0.53617021\n",
      "0.78723404\n"
     ]
    }
   ],
   "source": [
    "cllr = LogisticRegression(random_state=0, solver='lbfgs',multi_class='multinomial')\n",
    "\n",
    "for i in range(len(X_train_tfidf[0])):\n",
    "    cllr.fit(X_train_tfidf[0][i], y_train[0][i])\n",
    "    y_pred = cllr.predict(X_test_tfidf[0][i])\n",
    "    resultado_RF = metrics.accuracy_score(y_pred, y_test[0][i]) \n",
    "\n",
    "    print(\"%0.8f\" % resultado_RF)"
   ]
  },
  {
   "cell_type": "markdown",
   "metadata": {},
   "source": [
    "## Logistic Regresion + LSA"
   ]
  },
  {
   "cell_type": "code",
   "execution_count": 46,
   "metadata": {},
   "outputs": [
    {
     "name": "stdout",
     "output_type": "stream",
     "text": [
      "0.50638298\n",
      "0.45957447\n",
      "0.77446809\n"
     ]
    }
   ],
   "source": [
    "cllr = LogisticRegression(random_state=0, solver='lbfgs',multi_class='multinomial')\n",
    "\n",
    "for i in range(len(X_train_tfidf[0])):\n",
    "    cllr.fit(X_train_lsa[0][i], y_train[0][i])\n",
    "    y_pred = cllr.predict(X_test_lsa[0][i])\n",
    "    resultado_RF = metrics.accuracy_score(y_pred, y_test[0][i]) \n",
    "\n",
    "    print(\"%0.8f\" % resultado_RF)"
   ]
  }
 ],
 "metadata": {
  "kernelspec": {
   "display_name": "Python 3 (ipykernel)",
   "language": "python",
   "name": "python3"
  },
  "language_info": {
   "codemirror_mode": {
    "name": "ipython",
    "version": 3
   },
   "file_extension": ".py",
   "mimetype": "text/x-python",
   "name": "python",
   "nbconvert_exporter": "python",
   "pygments_lexer": "ipython3",
   "version": "3.9.12"
  }
 },
 "nbformat": 4,
 "nbformat_minor": 2
}
